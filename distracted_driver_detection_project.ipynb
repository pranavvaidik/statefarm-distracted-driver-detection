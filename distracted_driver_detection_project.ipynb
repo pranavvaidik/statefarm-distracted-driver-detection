{
 "cells": [
  {
   "cell_type": "markdown",
   "metadata": {
    "collapsed": true
   },
   "source": [
    "# Distraction Driver Detection Project\n",
    "## Project Aim: To predict the activity of the driver from the image\n",
    "This is some plain text that forms a paragraph.\n",
    "Add emphasis via **bold** and __bold__, or *italic* and _italic_.\n",
    "\n",
    "Paragraphs must be separated by an empty line.\n",
    "\n",
    "* Sometimes we want to include lists.\n",
    " * Which can be indented.\n",
    "\n",
    "1. Lists can also be numbered.\n",
    "2. For ordered lists.\n",
    "\n",
    "[It is possible to include hyperlinks](https://www.example.com)\n",
    "\n",
    "Inline code uses single backticks: `foo()`, and code blocks use triple backticks:\n",
    "\n",
    "```\n",
    "bar()\n",
    "```\n",
    "\n",
    "Or can be intented by 4 spaces:\n",
    "\n",
    "    foo()\n"
   ]
  },
  {
   "cell_type": "markdown",
   "metadata": {},
   "source": [
    "## Step 0: Importing the datasets\n",
    "\n",
    "We start by importing the images from the datasets"
   ]
  },
  {
   "cell_type": "code",
   "execution_count": 1,
   "metadata": {},
   "outputs": [
    {
     "name": "stderr",
     "output_type": "stream",
     "text": [
      "Using TensorFlow backend.\n"
     ]
    },
    {
     "name": "stdout",
     "output_type": "stream",
     "text": [
      "There are 22424 total number of driver images\n",
      "There are 17939 number of train images\n",
      "There are 2242 number of validation images\n",
      "There are 2243 number of test images\n"
     ]
    }
   ],
   "source": [
    "from sklearn.datasets import load_files\n",
    "from sklearn.model_selection import train_test_split\n",
    "from keras.utils import np_utils\n",
    "import numpy as np\n",
    "from glob import glob\n",
    "\n",
    "#defining a function to load the dataset\n",
    "def load_dataset(path):\n",
    "    data = load_files(path)\n",
    "    driver_images = np.array(data['filenames'])\n",
    "    driver_activities = np_utils.to_categorical(np.array(data['target']))\n",
    "    return driver_images, driver_activities\n",
    "\n",
    "#loading the datasets\n",
    "images, targets = load_dataset('imgs/train')\n",
    "\n",
    "#splitting data to train, test and validation datasets\n",
    "images_train, images_rest, targets_train, targets_rest = train_test_split( images, targets, train_size=0.8, random_state=42)\n",
    "images_val, images_test, targets_val, targets_test = train_test_split( images_rest, targets_rest, train_size=0.5, random_state=42)\n",
    "\n",
    "\n",
    "#printing the dataset statistics\n",
    "print('There are %d total number of driver images' % len(images))\n",
    "\n",
    "\n",
    "\n",
    "print('There are %d number of train images' % len(images_train))\n",
    "print('There are %d number of validation images' % len(images_val))\n",
    "print('There are %d number of test images' % len(images_test))\n",
    "\n"
   ]
  },
  {
   "cell_type": "markdown",
   "metadata": {},
   "source": [
    "## Step 2: Preprocessing\n",
    "\n",
    "For preprocessing, we normalize the pixels in the images. That's more than enough."
   ]
  },
  {
   "cell_type": "code",
   "execution_count": null,
   "metadata": {},
   "outputs": [
    {
     "name": "stderr",
     "output_type": "stream",
     "text": [
      "  6%|▋         | 1143/17939 [00:23<32:27,  8.63it/s]"
     ]
    }
   ],
   "source": [
    "import cv2\n",
    "import matplotlib.pyplot as plt\n",
    "from keras.preprocessing import image\n",
    "from tqdm import tqdm\n",
    "#define a function that reads a path to an image and returns a tensor suitable for keras\n",
    "\n",
    "def path_to_tensor(path):\n",
    "    img = image.load_img(path, target_size=(128, 128))\n",
    "    x = image.img_to_array(img)\n",
    "    return np.expand_dims(x, axis=0)\n",
    "\n",
    "\n",
    "#define a function that reads a path to an image and returns a tensor suitable for keras\n",
    "def paths_to_tensor(paths_list):\n",
    "    img_list = [path_to_tensor(img_path) for img_path in tqdm(paths_list)]\n",
    "    return np.vstack(img_list)\n",
    "\n",
    "\n",
    "from PIL import ImageFile                            \n",
    "ImageFile.LOAD_TRUNCATED_IMAGES = True                 \n",
    "\n",
    "#normalize all images: divide the tensors by 255\n",
    "# pre-process the data for Keras\n",
    "train_tensors = paths_to_tensor(images_train).astype('float32')/255\n",
    "valid_tensors = paths_to_tensor(images_val).astype('float32')/255\n",
    "test_tensors = paths_to_tensor(images_test).astype('float32')/255\n",
    "\n",
    "\n"
   ]
  },
  {
   "cell_type": "code",
   "execution_count": null,
   "metadata": {
    "collapsed": true
   },
   "outputs": [],
   "source": []
  },
  {
   "cell_type": "code",
   "execution_count": null,
   "metadata": {
    "collapsed": true
   },
   "outputs": [],
   "source": []
  }
 ],
 "metadata": {
  "kernelspec": {
   "display_name": "Python 3",
   "language": "python",
   "name": "python3"
  },
  "language_info": {
   "codemirror_mode": {
    "name": "ipython",
    "version": 3
   },
   "file_extension": ".py",
   "mimetype": "text/x-python",
   "name": "python",
   "nbconvert_exporter": "python",
   "pygments_lexer": "ipython3",
   "version": "3.6.1"
  }
 },
 "nbformat": 4,
 "nbformat_minor": 2
}
